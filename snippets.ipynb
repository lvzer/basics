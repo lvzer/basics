{
 "cells": [
  {
   "cell_type": "code",
   "execution_count": 10,
   "id": "ab29d92c",
   "metadata": {
    "ExecuteTime": {
     "end_time": "2023-10-27T13:55:20.414341Z",
     "start_time": "2023-10-27T13:55:20.407360Z"
    }
   },
   "outputs": [
    {
     "data": {
      "text/plain": [
       "61"
      ]
     },
     "execution_count": 10,
     "metadata": {},
     "output_type": "execute_result"
    }
   ],
   "source": [
    "list = [1, 12, 23, 34, 45, 61, 72, 81, 90, 110]\n",
    "len(list)\n",
    "middle = 0 + 9 // 2\n",
    "middle\n",
    "list[middle]"
   ]
  },
  {
   "cell_type": "code",
   "execution_count": 2,
   "id": "6b7016bc",
   "metadata": {
    "ExecuteTime": {
     "end_time": "2023-10-27T16:13:40.053039Z",
     "start_time": "2023-10-27T16:13:40.041637Z"
    }
   },
   "outputs": [
    {
     "name": "stdout",
     "output_type": "stream",
     "text": [
      "5\n",
      "0\n",
      "1\n",
      "2\n",
      "3\n",
      "4\n"
     ]
    }
   ],
   "source": [
    "l = [55, 87, 26, 29, 77]\n",
    "print(len(l))\n",
    "for i in range(len(l)):\n",
    "    print(i)"
   ]
  },
  {
   "cell_type": "code",
   "execution_count": null,
   "id": "d2d11d9f",
   "metadata": {},
   "outputs": [],
   "source": []
  }
 ],
 "metadata": {
  "kernelspec": {
   "display_name": "Python 3",
   "language": "python",
   "name": "python3"
  },
  "language_info": {
   "codemirror_mode": {
    "name": "ipython",
    "version": 3
   },
   "file_extension": ".py",
   "mimetype": "text/x-python",
   "name": "python",
   "nbconvert_exporter": "python",
   "pygments_lexer": "ipython3",
   "version": "3.6.13"
  }
 },
 "nbformat": 4,
 "nbformat_minor": 5
}
