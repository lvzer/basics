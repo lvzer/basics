{
 "cells": [
  {
   "cell_type": "code",
   "execution_count": 3,
   "id": "187d351c",
   "metadata": {
    "ExecuteTime": {
     "end_time": "2023-10-27T13:29:36.353941Z",
     "start_time": "2023-10-27T13:29:35.699320Z"
    }
   },
   "outputs": [
    {
     "name": "stdout",
     "output_type": "stream",
     "text": [
      "Enter the number you want to search for: 12\n",
      "Not found\n"
     ]
    }
   ],
   "source": [
    "# Linear Search to find an element in a list\n",
    "\n",
    "def linear_search(a, n):\n",
    "    for i in range(len(a)):\n",
    "        if(a[i] == n):\n",
    "            return True\n",
    "    return False\n",
    "\n",
    "a = [1, 2, 3, 4, 5, 6, 7, 8, 9, 10]\n",
    "x = int(input(\"Enter the number you want to search for: \"))\n",
    "if linear_search(a, x):\n",
    "    print(\"Found\")\n",
    "else:\n",
    "    print(\"Not found\")"
   ]
  },
  {
   "cell_type": "code",
   "execution_count": 16,
   "id": "5b5c5f23",
   "metadata": {
    "ExecuteTime": {
     "end_time": "2023-10-27T14:26:16.351691Z",
     "start_time": "2023-10-27T14:26:15.351175Z"
    }
   },
   "outputs": [
    {
     "name": "stdout",
     "output_type": "stream",
     "text": [
      "Enter the number you want to search for: 1\n",
      "Not found\n"
     ]
    }
   ],
   "source": [
    "# Binary Search on a sorted list\n",
    "# O(logN)\n",
    "# has to be sorted\n",
    "\n",
    "# halves, check middle, split again\n",
    "def binary_search(list, left, right, x):\n",
    "    if right >= left:\n",
    "        middle = left + (right-1) // 2\n",
    "        if list[middle] == x:\n",
    "            return middle\n",
    "        \n",
    "        elif list[middle] > x: # Go left\n",
    "            return binary_search(list, left, middle-1, x)\n",
    "        \n",
    "        else:                 # Go right\n",
    "            return binary_search(list, middle+1, right, x)\n",
    "    else:\n",
    "        return -1\n",
    "\n",
    "\n",
    "list = [1, 12, 23, 34, 45, 61, 72, 81, 90, 110]\n",
    "x = int(input(\"Enter the number you want to search for: \"))\n",
    "index = binary_search(list, 0, len(list)-1, x)\n",
    "if index != -1:\n",
    "    print(\"Found at index: \", index)\n",
    "else:\n",
    "    print(\"Not found\")"
   ]
  },
  {
   "cell_type": "code",
   "execution_count": 10,
   "id": "ab29d92c",
   "metadata": {
    "ExecuteTime": {
     "end_time": "2023-10-27T13:55:20.414341Z",
     "start_time": "2023-10-27T13:55:20.407360Z"
    }
   },
   "outputs": [
    {
     "data": {
      "text/plain": [
       "61"
      ]
     },
     "execution_count": 10,
     "metadata": {},
     "output_type": "execute_result"
    }
   ],
   "source": [
    "list = [1, 12, 23, 34, 45, 61, 72, 81, 90, 110]\n",
    "len(list)\n",
    "middle = 0 + 9 // 2\n",
    "middle\n",
    "list[middle]"
   ]
  },
  {
   "cell_type": "code",
   "execution_count": null,
   "id": "6b7016bc",
   "metadata": {},
   "outputs": [],
   "source": []
  }
 ],
 "metadata": {
  "kernelspec": {
   "display_name": "Python 3",
   "language": "python",
   "name": "python3"
  },
  "language_info": {
   "codemirror_mode": {
    "name": "ipython",
    "version": 3
   },
   "file_extension": ".py",
   "mimetype": "text/x-python",
   "name": "python",
   "nbconvert_exporter": "python",
   "pygments_lexer": "ipython3",
   "version": "3.8.2"
  }
 },
 "nbformat": 4,
 "nbformat_minor": 5
}
